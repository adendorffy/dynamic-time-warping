{
 "cells": [
  {
   "cell_type": "code",
   "execution_count": 1,
   "metadata": {},
   "outputs": [],
   "source": [
    "from pathlib import Path\n",
    "\n",
    "name = \"librispeech-dev-clean\"\n",
    "in_dir = Path(\"data/dev-clean\")\n",
    "align_dir = Path(\"data/alignments/dev-clean\")\n",
    "feat_dir = Path(\"features\")\n",
    "audio_ext = \".flac\"     "
   ]
  },
  {
   "cell_type": "code",
   "execution_count": 13,
   "metadata": {},
   "outputs": [
    {
     "name": "stdout",
     "output_type": "stream",
     "text": [
      "50\n"
     ]
    }
   ],
   "source": [
    "from encode import sample_files\n",
    "from utils.features import DataSet\n",
    "\n",
    "dataset = DataSet(\n",
    "    name, in_dir, align_dir, feat_dir, audio_ext \n",
    ")\n",
    "\n",
    "sample_size = 50\n",
    "model_name = \"hubert_base\"\n",
    "layer = 7\n",
    "out_dir = Path(f\"output/{model_name}/{sample_size}\")\n",
    "\n",
    "sampled_paths = sample_files(dataset, sample_size)\n",
    "print(len(sampled_paths))"
   ]
  },
  {
   "cell_type": "code",
   "execution_count": 14,
   "metadata": {},
   "outputs": [
    {
     "name": "stderr",
     "output_type": "stream",
     "text": [
      "Getting units: 100%|██████████| 50/50 [00:11<00:00,  4.41it/s]\n"
     ]
    }
   ],
   "source": [
    "from encode import get_encodings\n",
    "\n",
    "words = get_encodings(dataset, model_name, sampled_paths, layer, out_dir)"
   ]
  },
  {
   "cell_type": "code",
   "execution_count": 15,
   "metadata": {},
   "outputs": [],
   "source": [
    "out_dir = Path(f\"output/{model_name}/{layer}/{sample_size}\")"
   ]
  },
  {
   "cell_type": "code",
   "execution_count": null,
   "metadata": {},
   "outputs": [
    {
     "name": "stdout",
     "output_type": "stream",
     "text": [
      "(14, 768)\n"
     ]
    },
    {
     "name": "stderr",
     "output_type": "stream",
     "text": [
      "Calculating Distances:  36%|███▌      | 435/1217 [01:18<02:00,  6.49it/s]"
     ]
    }
   ],
   "source": [
    "from distance import encodings_from_words, dtw\n",
    "\n",
    "encodings = encodings_from_words(words)\n",
    "norm_dist_mat = dtw(encodings, out_dir)\n",
    "print(norm_dist_mat[0:5, 0:5])"
   ]
  },
  {
   "cell_type": "code",
   "execution_count": null,
   "metadata": {},
   "outputs": [
    {
     "name": "stdout",
     "output_type": "stream",
     "text": [
      "Sorted Word Counts\n"
     ]
    },
    {
     "data": {
      "text/html": [
       "<table id=\"itables_6af28ccd_142b_4d9e_ba1d_fc4fff0d3b40\" class=\"display nowrap\" data-quarto-disable-processing=\"true\" style=\"table-layout:auto;width:auto;margin:auto;caption-side:bottom\">\n",
       "<thead>\n",
       "    <tr style=\"text-align: right;\">\n",
       "      <th></th>\n",
       "      <th>Word</th>\n",
       "      <th>Count</th>\n",
       "    </tr>\n",
       "  </thead><tbody><tr>\n",
       "<td style=\"vertical-align:middle; text-align:left\">\n",
       "<a href=https://mwouts.github.io/itables/><svg class=\"main-svg\" xmlns=\"http://www.w3.org/2000/svg\" xmlns:xlink=\"http://www.w3.org/1999/xlink\"\n",
       "width=\"64\" viewBox=\"0 0 500 400\" style=\"font-family: 'Droid Sans', sans-serif;\">\n",
       "    <g style=\"fill:#d9d7fc\">\n",
       "        <path d=\"M100,400H500V357H100Z\" />\n",
       "        <path d=\"M100,300H400V257H100Z\" />\n",
       "        <path d=\"M0,200H400V157H0Z\" />\n",
       "        <path d=\"M100,100H500V57H100Z\" />\n",
       "        <path d=\"M100,350H500V307H100Z\" />\n",
       "        <path d=\"M100,250H400V207H100Z\" />\n",
       "        <path d=\"M0,150H400V107H0Z\" />\n",
       "        <path d=\"M100,50H500V7H100Z\" />\n",
       "    </g>\n",
       "    <g style=\"fill:#1a1366;stroke:#1a1366;\">\n",
       "   <rect x=\"100\" y=\"7\" width=\"400\" height=\"43\">\n",
       "    <animate\n",
       "      attributeName=\"width\"\n",
       "      values=\"0;400;0\"\n",
       "      dur=\"5s\"\n",
       "      repeatCount=\"indefinite\" />\n",
       "      <animate\n",
       "      attributeName=\"x\"\n",
       "      values=\"100;100;500\"\n",
       "      dur=\"5s\"\n",
       "      repeatCount=\"indefinite\" />\n",
       "  </rect>\n",
       "        <rect x=\"0\" y=\"107\" width=\"400\" height=\"43\">\n",
       "    <animate\n",
       "      attributeName=\"width\"\n",
       "      values=\"0;400;0\"\n",
       "      dur=\"3.5s\"\n",
       "      repeatCount=\"indefinite\" />\n",
       "    <animate\n",
       "      attributeName=\"x\"\n",
       "      values=\"0;0;400\"\n",
       "      dur=\"3.5s\"\n",
       "      repeatCount=\"indefinite\" />\n",
       "  </rect>\n",
       "        <rect x=\"100\" y=\"207\" width=\"300\" height=\"43\">\n",
       "    <animate\n",
       "      attributeName=\"width\"\n",
       "      values=\"0;300;0\"\n",
       "      dur=\"3s\"\n",
       "      repeatCount=\"indefinite\" />\n",
       "    <animate\n",
       "      attributeName=\"x\"\n",
       "      values=\"100;100;400\"\n",
       "      dur=\"3s\"\n",
       "      repeatCount=\"indefinite\" />\n",
       "  </rect>\n",
       "        <rect x=\"100\" y=\"307\" width=\"400\" height=\"43\">\n",
       "    <animate\n",
       "      attributeName=\"width\"\n",
       "      values=\"0;400;0\"\n",
       "      dur=\"4s\"\n",
       "      repeatCount=\"indefinite\" />\n",
       "      <animate\n",
       "      attributeName=\"x\"\n",
       "      values=\"100;100;500\"\n",
       "      dur=\"4s\"\n",
       "      repeatCount=\"indefinite\" />\n",
       "  </rect>\n",
       "        <g style=\"fill:transparent;stroke-width:8; stroke-linejoin:round\" rx=\"5\">\n",
       "            <g transform=\"translate(45 50) rotate(-45)\">\n",
       "                <circle r=\"33\" cx=\"0\" cy=\"0\" />\n",
       "                <rect x=\"-8\" y=\"32\" width=\"16\" height=\"30\" />\n",
       "            </g>\n",
       "\n",
       "            <g transform=\"translate(450 152)\">\n",
       "                <polyline points=\"-15,-20 -35,-20 -35,40 25,40 25,20\" />\n",
       "                <rect x=\"-15\" y=\"-40\" width=\"60\" height=\"60\" />\n",
       "            </g>\n",
       "\n",
       "            <g transform=\"translate(50 352)\">\n",
       "                <polygon points=\"-35,-5 0,-40 35,-5\" />\n",
       "                <polygon points=\"-35,10 0,45 35,10\" />\n",
       "            </g>\n",
       "\n",
       "            <g transform=\"translate(75 250)\">\n",
       "                <polyline points=\"-30,30 -60,0 -30,-30\" />\n",
       "                <polyline points=\"0,30 -30,0 0,-30\" />\n",
       "            </g>\n",
       "\n",
       "            <g transform=\"translate(425 250) rotate(180)\">\n",
       "                <polyline points=\"-30,30 -60,0 -30,-30\" />\n",
       "                <polyline points=\"0,30 -30,0 0,-30\" />\n",
       "            </g>\n",
       "        </g>\n",
       "    </g>\n",
       "</svg>\n",
       "</a>\n",
       "Loading ITables v2.2.5 from the internet...\n",
       "(need <a href=https://mwouts.github.io/itables/troubleshooting.html>help</a>?)</td>\n",
       "</tr></tbody>\n",
       "</table>\n",
       "<link href=\"https://www.unpkg.com/dt_for_itables@2.0.13/dt_bundle.css\" rel=\"stylesheet\">\n",
       "<script type=\"module\">\n",
       "    import {DataTable, jQuery as $} from 'https://www.unpkg.com/dt_for_itables@2.0.13/dt_bundle.js';\n",
       "\n",
       "    document.querySelectorAll(\"#itables_6af28ccd_142b_4d9e_ba1d_fc4fff0d3b40:not(.dataTable)\").forEach(table => {\n",
       "        if (!(table instanceof HTMLTableElement))\n",
       "            return;\n",
       "\n",
       "        // Define the table data\n",
       "        const data = [[0, \"_\", 3], [1, \"she\", 1], [16, \"in\", 1], [15, \"catapult\", 1], [14, \"a\", 1], [13, \"like\", 1], [12, \"forward\", 1], [11, \"thrust\", 1], [10, \"head\", 1], [9, \"determined\", 1], [8, \"big\", 1], [7, \"and\", 1], [6, \"shoulders\", 1], [5, \"heavy\", 1], [4, \"his\", 1], [3, \"at\", 1], [2, \"looked\", 1], [17, \"leash\", 1]];\n",
       "\n",
       "        // Define the dt_args\n",
       "        let dt_args = {\"layout\": {\"topStart\": \"pageLength\", \"topEnd\": \"search\", \"bottomStart\": \"info\", \"bottomEnd\": \"paging\"}, \"order\": [], \"warn_on_selected_rows_not_rendered\": true};\n",
       "        dt_args[\"data\"] = data;\n",
       "\n",
       "        \n",
       "        new DataTable(table, dt_args);\n",
       "    });\n",
       "</script>\n"
      ],
      "text/plain": [
       "<IPython.core.display.HTML object>"
      ]
     },
     "metadata": {},
     "output_type": "display_data"
    }
   ],
   "source": [
    "from utils.features import display_words\n",
    "\n",
    "true_words = display_words(words)"
   ]
  },
  {
   "cell_type": "code",
   "execution_count": null,
   "metadata": {},
   "outputs": [
    {
     "data": {
      "image/png": "[encoded data removed]",
      "text/plain": [
       "<Figure size 640x480 with 2 Axes>"
      ]
     },
     "metadata": {},
     "output_type": "display_data"
    }
   ],
   "source": [
    "from eval import pairwise_edit_dist_mat\n",
    "\n",
    "# Visualise the distances\n",
    "pairwise_edit_dist_mat(norm_dist_mat, \"Pairwise Edit Distance Matrix DTW\", true_words)"
   ]
  },
  {
   "cell_type": "code",
   "execution_count": null,
   "metadata": {},
   "outputs": [
    {
     "name": "stderr",
     "output_type": "stream",
     "text": [
      "Clustering: 100%|██████████| 20/20 [00:00<00:00, 626015.52it/s]\n",
      "Getting Word Clusters: 100%|██████████| 20/20 [00:00<00:00, 537731.28it/s]\n"
     ]
    }
   ],
   "source": [
    "from cluster import cluster, get_word_clusters\n",
    "\n",
    "# Get the int_clusters for each of the matrices\n",
    "clusters = cluster(norm_dist_mat, 0.2)\n",
    "\n",
    "# Convert these to word clusters\n",
    "word_clusters = get_word_clusters(clusters, words)"
   ]
  },
  {
   "cell_type": "code",
   "execution_count": null,
   "metadata": {},
   "outputs": [
    {
     "name": "stderr",
     "output_type": "stream",
     "text": [
      "Calculating NED: 100%|██████████| 20/20 [00:00<00:00, 687590.82it/s]"
     ]
    },
    {
     "name": "stdout",
     "output_type": "stream",
     "text": [
      "DUSTED NED: 0\n"
     ]
    },
    {
     "name": "stderr",
     "output_type": "stream",
     "text": [
      "\n"
     ]
    }
   ],
   "source": [
    "from eval import ned\n",
    "\n",
    "# Compute the ned for my dusted and hubert clusters - atm my NED is computed only using clusters with > 1 words\n",
    "ned_dtw = ned(word_clusters, print_pure=False, print_inpure=True)\n",
    "print(f\"DUSTED NED: {ned_dtw}\")"
   ]
  },
  {
   "cell_type": "code",
   "execution_count": null,
   "metadata": {},
   "outputs": [
    {
     "name": "stdout",
     "output_type": "stream",
     "text": [
      "Iteration 0: NED: 0.000000, Duplicates: 3\n"
     ]
    },
    {
     "name": "stderr",
     "output_type": "stream",
     "text": [
      "Calculating Cluster Centroids: 100%|██████████| 20/20 [00:00<00:00, 1603.33it/s]\n",
      "Get Distances to Centroids: 100%|██████████| 20/20 [00:00<00:00, 174.72it/s]\n",
      "Calculating NED: 100%|██████████| 20/20 [00:00<00:00, 645277.54it/s]"
     ]
    },
    {
     "name": "stdout",
     "output_type": "stream",
     "text": [
      "Iteration 1: NED: 0.000000\n",
      "Converged early due to no significant improvement in NED or duplicate count.\n",
      "Best NED: 0.000000, Best Duplicates: 3\n"
     ]
    },
    {
     "name": "stderr",
     "output_type": "stream",
     "text": [
      "\n"
     ]
    }
   ],
   "source": [
    "from cluster import get_best_clusters\n",
    "\n",
    "ned_dtw, duplicate_count, word_clusters = get_best_clusters(word_clusters, ned_dtw, max_iter=5)"
   ]
  },
  {
   "cell_type": "code",
   "execution_count": null,
   "metadata": {},
   "outputs": [
    {
     "name": "stdout",
     "output_type": "stream",
     "text": [
      "20 Dusted Clusters with inpurity: 10.0%\n"
     ]
    }
   ],
   "source": [
    "from eval import words_from_word_units, clusters_purity\n",
    "            \n",
    "just_words_clusters = words_from_word_units(word_clusters)\n",
    "inpurity, total = clusters_purity(just_words_clusters)\n",
    "print(f\"{total} Dusted Clusters with inpurity: {round(inpurity*100, 3)}%\")"
   ]
  },
  {
   "cell_type": "code",
   "execution_count": null,
   "metadata": {},
   "outputs": [
    {
     "name": "stdout",
     "output_type": "stream",
     "text": [
      "Total duplicate clusters (considering word frequency): 3\n",
      "Duplicate clusters and their counts:\n",
      "{'_': 1}: 3 times\n"
     ]
    }
   ],
   "source": [
    "from eval import calculate_duplicate_clusters\n",
    "\n",
    "cluster_counts, duplicate_counts = calculate_duplicate_clusters(word_clusters, print_clusters=True)"
   ]
  },
  {
   "cell_type": "code",
   "execution_count": null,
   "metadata": {},
   "outputs": [],
   "source": [
    "from encode import sample_files\n",
    "from utils.features import load_units_from_paths\n",
    "from encode import get_units\n",
    "from cluster import get_distance_to_centroids, get_cluster_centroids\n",
    "import editdistance\n",
    "import statistics\n",
    "\n",
    "query_path = sample_files(dataset, sample_size=1)\n",
    "\n",
    "# Query one of the ladys\n",
    "# query_path = [Path(\"data/dev-clean/174/50561/174-50561-0013.flac\")]\n",
    "\n",
    "query_words = load_units_from_paths(dataset, \"dusted\", query_path, gamma=0.2)\n",
    "if not query_words:\n",
    "    query_ords = get_units(dataset, \"dusted\", query_path, gamma=0.2, save=True)\n",
    "query_sentence = \" \".join([w.true_word for w in query_words])\n",
    "\n",
    "centroids = get_cluster_centroids(word_clusters)\n",
    "query_words = get_distance_to_centroids([query_words], centroids)\n",
    "\n",
    "\n",
    "predictions = []\n",
    "query_distances = []\n",
    "for word in query_words:\n",
    "    prediction = centroids[word.cluster_id].true_word\n",
    "    # print(\" : \".join([word.true_word, prediction]))\n",
    "    query_distances.append(editdistance.eval(word.true_word, prediction)/max(len(word.true_word), len(prediction)))\n",
    "    predictions.append(prediction)\n",
    "\n",
    "prediction_sentence = \" \".join(predictions)\n",
    "print(f\"NED for query: {statistics.mean(query_distances)}\")\n",
    "print(query_sentence)\n",
    "print(prediction_sentence)"
   ]
  }
 ],
 "metadata": {
  "kernelspec": {
   "display_name": ".env",
   "language": "python",
   "name": "python3"
  },
  "language_info": {
   "codemirror_mode": {
    "name": "ipython",
    "version": 3
   },
   "file_extension": ".py",
   "mimetype": "text/x-python",
   "name": "python",
   "nbconvert_exporter": "python",
   "pygments_lexer": "ipython3",
   "version": "3.12.8"
  }
 },
 "nbformat": 4,
 "nbformat_minor": 2
}
