{
 "cells": [
  {
   "cell_type": "code",
   "execution_count": 1,
   "metadata": {},
   "outputs": [],
   "source": [
    "from pathlib import Path\n",
    "\n",
    "name = \"librispeech-dev-clean\"\n",
    "in_dir = Path(\"data/dev-clean\")\n",
    "align_dir = Path(\"data/alignments/dev-clean\")\n",
    "feat_dir = Path(\"features\")\n",
    "audio_ext = \".flac\"     "
   ]
  },
  {
   "cell_type": "code",
   "execution_count": 8,
   "metadata": {},
   "outputs": [
    {
     "name": "stdout",
     "output_type": "stream",
     "text": [
      "5\n"
     ]
    }
   ],
   "source": [
    "from encode import sample_files\n",
    "from utils.features import DataSet\n",
    "\n",
    "dataset = DataSet(\n",
    "    name, in_dir, align_dir, feat_dir, audio_ext \n",
    ")\n",
    "\n",
    "sample_size = 5\n",
    "model_name = \"hubert_base\"\n",
    "layer = 7\n",
    "out_dir = Path(f\"output/{model_name}/{sample_size}\")\n",
    "\n",
    "sampled_paths = sample_files(dataset, sample_size)\n",
    "print(len(sampled_paths))"
   ]
  },
  {
   "cell_type": "code",
   "execution_count": 9,
   "metadata": {},
   "outputs": [
    {
     "name": "stderr",
     "output_type": "stream",
     "text": [
      "Downloading: \"https://download.pytorch.org/torchaudio/models/hubert_fairseq_base_ls960.pth\" to /Users/daneladendorff/.cache/torch/hub/checkpoints/hubert_fairseq_base_ls960.pth\n",
      "100%|██████████| 360M/360M [02:05<00:00, 3.00MB/s]  \n",
      "Getting units: 100%|██████████| 5/5 [00:01<00:00,  4.35it/s]\n"
     ]
    }
   ],
   "source": [
    "from encode import get_encodings\n",
    "\n",
    "words = get_encodings(dataset, model_name, sampled_paths, layer, out_dir)"
   ]
  },
  {
   "cell_type": "code",
   "execution_count": null,
   "metadata": {},
   "outputs": [],
   "source": [
    "out_dir = Path(f\"output/{model_name}/{layer}/{sample_size}\")"
   ]
  },
  {
   "cell_type": "code",
   "execution_count": null,
   "metadata": {},
   "outputs": [
    {
     "name": "stderr",
     "output_type": "stream",
     "text": [
      "Calculating Distances: 100%|██████████| 73/73 [00:00<00:00, 951.16it/s]"
     ]
    },
    {
     "name": "stdout",
     "output_type": "stream",
     "text": [
      "[[ 0.00000000e+00  1.13782414e-03  4.17079091e-03  1.60103637e-02\n",
      "   1.96275069e-02]\n",
      " [ 0.00000000e+00  1.85037171e-17  3.56552218e-03  1.68092102e-02\n",
      "   2.08991683e-02]\n",
      " [ 0.00000000e+00  2.59519429e-02 -7.93016446e-18  2.54451481e-02\n",
      "   1.36855210e-02]\n",
      " [ 0.00000000e+00  2.64856421e-02  2.79091047e-02 -6.93889390e-18\n",
      "   3.87486284e-02]\n",
      " [ 0.00000000e+00  2.49582584e-02  1.07521363e-02  2.04023446e-02\n",
      "   0.00000000e+00]]\n"
     ]
    },
    {
     "name": "stderr",
     "output_type": "stream",
     "text": [
      "\n"
     ]
    }
   ],
   "source": [
    "from distance import encodings_from_words, dtw\n",
    "\n",
    "encodings = encodings_from_words(words)\n",
    "norm_dist_mat = dtw(encodings, out_dir)\n",
    "print(norm_dist_mat[0:5, 0:5])"
   ]
  }
 ],
 "metadata": {
  "kernelspec": {
   "display_name": ".env",
   "language": "python",
   "name": "python3"
  },
  "language_info": {
   "codemirror_mode": {
    "name": "ipython",
    "version": 3
   },
   "file_extension": ".py",
   "mimetype": "text/x-python",
   "name": "python",
   "nbconvert_exporter": "python",
   "pygments_lexer": "ipython3",
   "version": "3.12.8"
  }
 },
 "nbformat": 4,
 "nbformat_minor": 2
}
